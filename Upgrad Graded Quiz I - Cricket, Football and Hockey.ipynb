{
 "cells": [
  {
   "cell_type": "code",
   "execution_count": 3,
   "id": "c97d513a-274a-4e4d-8513-469d7c3bd3e0",
   "metadata": {},
   "outputs": [
    {
     "name": "stdout",
     "output_type": "stream",
     "text": [
      "[40, 95]\n"
     ]
    }
   ],
   "source": [
    "#Which are the students who play all the three sports?\n",
    "\n",
    "\n",
    "C = [7, 8, 9, 18, 20, 21, 25, 26, 27, 31, 32, 34, 35, 36, 40, 43, 45, 47, 53, 58, 62, 67, 68, 71, 72, 74, 75, 76, 80, 81, 82, 90, 93, 95, 97, 99]\n",
    "F = [1, 7, 10, 13, 16, 22, 24, 29, 30, 32, 34, 39, 40, 43, 44, 48, 56, 60, 65, 68, 69, 73, 77, 78, 90, 93, 94, 95, 96]\n",
    "H = [5, 12, 14, 17, 20, 21, 22, 25, 28, 30, 37, 38, 39, 40, 42, 44, 57, 59, 61, 62, 67, 71, 75, 76, 77, 82, 83, 86, 87, 92, 94, 95]\n",
    "\n",
    "set1 = set(C)\n",
    "set2 = set(F)\n",
    "set3 = set(H)\n",
    "\n",
    "# Calculate symmetric difference between sets\n",
    "Common_elements = set1 & set2 & set3\n",
    "\n",
    "# Convert back to list\n",
    "Common_elements = list(Common_elements)\n",
    "\n",
    "print(Common_elements)"
   ]
  },
  {
   "cell_type": "code",
   "execution_count": 5,
   "id": "b6018c5a-da82-4722-b3fb-182e9373fcfe",
   "metadata": {},
   "outputs": [
    {
     "name": "stdout",
     "output_type": "stream",
     "text": [
      "[67, 71, 75, 76, 82, 20, 21, 25, 62]\n"
     ]
    }
   ],
   "source": [
    "# Which are the players who play both cricket and hockey but don't play football?\n",
    "#Method 1\n",
    "C = [7, 8, 9, 18, 20, 21, 25, 26, 27, 31, 32, 34, 35, 36, 40, 43, 45, 47, 53, 58, 62, 67, 68, 71, 72, 74, 75, 76, 80, 81, 82, 90, 93, 95, 97, 99]\n",
    "F = [1, 7, 10, 13, 16, 22, 24, 29, 30, 32, 34, 39, 40, 43, 44, 48, 56, 60, 65, 68, 69, 73, 77, 78, 90, 93, 94, 95, 96]\n",
    "H = [5, 12, 14, 17, 20, 21, 22, 25, 28, 30, 37, 38, 39, 40, 42, 44, 57, 59, 61, 62, 67, 71, 75, 76, 77, 82, 83, 86, 87, 92, 94, 95]\n",
    "\n",
    "set1 = set(C)\n",
    "set2 = set(F)\n",
    "set3 = set(H)\n",
    "\n",
    "Common_elements = set1 & set3\n",
    "G=[]\n",
    "for i in Common_elements:\n",
    "    if i not in set2:\n",
    "        G.append(i)\n",
    "print(G)"
   ]
  },
  {
   "cell_type": "code",
   "execution_count": 9,
   "id": "e52c8b71-e822-4870-a0ee-ffd02259afec",
   "metadata": {},
   "outputs": [
    {
     "name": "stdout",
     "output_type": "stream",
     "text": [
      "[67, 71, 75, 76, 82, 20, 21, 25, 62]\n"
     ]
    }
   ],
   "source": [
    "# Which are the players who play both cricket and hockey but don't play football?\n",
    "#Method 1\n",
    "\n",
    "C = [7, 8, 9, 18, 20, 21, 25, 26, 27, 31, 32, 34, 35, 36, 40, 43, 45, 47, 53, 58, 62, 67, 68, 71, 72, 74, 75, 76, 80, 81, 82, 90, 93, 95, 97, 99]\n",
    "F = [1, 7, 10, 13, 16, 22, 24, 29, 30, 32, 34, 39, 40, 43, 44, 48, 56, 60, 65, 68, 69, 73, 77, 78, 90, 93, 94, 95, 96]\n",
    "H = [5, 12, 14, 17, 20, 21, 22, 25, 28, 30, 37, 38, 39, 40, 42, 44, 57, 59, 61, 62, 67, 71, 75, 76, 77, 82, 83, 86, 87, 92, 94, 95]\n",
    "\n",
    "# Find players who play both cricket and hockey\n",
    "both_CH = list(set(C) & set(H))\n",
    "\n",
    "# Convert football list to set\n",
    "F_set = set(F)\n",
    "\n",
    "# Find players who play both cricket and hockey but not football\n",
    "result = [player for player in both_CH if player not in F_set]\n",
    "\n",
    "print(result)\n"
   ]
  },
  {
   "cell_type": "code",
   "execution_count": 13,
   "id": "0291a268-0476-4e67-8157-1477e766dc73",
   "metadata": {},
   "outputs": [
    {
     "name": "stdout",
     "output_type": "stream",
     "text": [
      "22\n"
     ]
    }
   ],
   "source": [
    "C = [7, 8, 9, 18, 20, 21, 25, 26, 27, 31, 32, 34, 35, 36, 40, 43, 45, 47, 53, 58, 62, 67, 68, 71, 72, 74, 75, 76, 80, 81, 82, 90, 93, 95, 97, 99]\n",
    "F = [1, 7, 10, 13, 16, 22, 24, 29, 30, 32, 34, 39, 40, 43, 44, 48, 56, 60, 65, 68, 69, 73, 77, 78, 90, 93, 94, 95, 96]\n",
    "H = [5, 12, 14, 17, 20, 21, 22, 25, 28, 30, 37, 38, 39, 40, 42, 44, 57, 59, 61, 62, 67, 71, 75, 76, 77, 82, 83, 86, 87, 92, 94, 95]\n",
    "\n",
    "\n",
    "set1 = set(C)\n",
    "set2 = set(F)\n",
    "set3 = set(H)\n",
    "\n",
    "Common_list1 = set1 & set2\n",
    "Common_list2 = set2 & set3\n",
    "Common_list3 = set1 & set3\n",
    "\n",
    "G = list((Common_list1 | Common_list2 | Common_list3) - (Common_list1 & Common_list2 & Common_list3))\n",
    "\n",
    "No_of_players = len(G)\n",
    "\n",
    "print(No_of_players)"
   ]
  },
  {
   "cell_type": "code",
   "execution_count": 19,
   "id": "707f4807-3872-415e-9b2c-99d3279acce3",
   "metadata": {},
   "outputs": [
    {
     "name": "stdout",
     "output_type": "stream",
     "text": [
      "[2, 3, 4, 6, 11, 15, 19, 23, 33, 41, 46, 49, 50, 51, 52, 54, 55, 63, 64, 66, 70, 79, 84, 85, 88, 89, 91, 98]\n"
     ]
    }
   ],
   "source": [
    "# Which of these players do not play any of the sport? (More than one option may be correct)\n",
    "\n",
    "C = [7, 8, 9, 18, 20, 21, 25, 26, 27, 31, 32, 34, 35, 36, 40, 43, 45, 47, 53, 58, 62, 67, 68, 71, 72, 74, 75, 76, 80, 81, 82, 90, 93, 95, 97, 99]\n",
    "F = [1, 7, 10, 13, 16, 22, 24, 29, 30, 32, 34, 39, 40, 43, 44, 48, 56, 60, 65, 68, 69, 73, 77, 78, 90, 93, 94, 95, 96]\n",
    "H = [5, 12, 14, 17, 20, 21, 22, 25, 28, 30, 37, 38, 39, 40, 42, 44, 57, 59, 61, 62, 67, 71, 75, 76, 77, 82, 83, 86, 87, 92, 94, 95]\n",
    "\n",
    "G=[]\n",
    "\n",
    "for i in range (1,100):\n",
    "    if i not in F and i not in H and i not in C :\n",
    "        G.append(i)\n",
    "print(G)\n"
   ]
  }
 ],
 "metadata": {
  "kernelspec": {
   "display_name": "Python 3 (ipykernel)",
   "language": "python",
   "name": "python3"
  },
  "language_info": {
   "codemirror_mode": {
    "name": "ipython",
    "version": 3
   },
   "file_extension": ".py",
   "mimetype": "text/x-python",
   "name": "python",
   "nbconvert_exporter": "python",
   "pygments_lexer": "ipython3",
   "version": "3.12.3"
  }
 },
 "nbformat": 4,
 "nbformat_minor": 5
}
